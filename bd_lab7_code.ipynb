{
  "nbformat": 4,
  "nbformat_minor": 0,
  "metadata": {
    "colab": {
      "provenance": []
    },
    "kernelspec": {
      "name": "python3",
      "display_name": "Python 3"
    },
    "language_info": {
      "name": "python"
    }
  },
  "cells": [
    {
      "cell_type": "code",
      "execution_count": 5,
      "metadata": {
        "id": "TA-9WNRgxsGQ",
        "colab": {
          "base_uri": "https://localhost:8080/"
        },
        "outputId": "19a3d954-10f6-46dc-8697-8c53b948b17a"
      },
      "outputs": [
        {
          "output_type": "stream",
          "name": "stdout",
          "text": [
            "Requirement already satisfied: kafka-python in /usr/local/lib/python3.10/dist-packages (2.0.2)\n",
            "Traceback (most recent call last):\n",
            "  File \"/usr/local/lib/python3.10/dist-packages/pip/_vendor/pkg_resources/__init__.py\", line 3108, in _dep_map\n",
            "    return self.__dep_map\n",
            "  File \"/usr/local/lib/python3.10/dist-packages/pip/_vendor/pkg_resources/__init__.py\", line 2901, in __getattr__\n",
            "    raise AttributeError(attr)\n",
            "AttributeError: _DistInfoDistribution__dep_map\n",
            "\n",
            "During handling of the above exception, another exception occurred:\n",
            "\n",
            "Traceback (most recent call last):\n",
            "  File \"/usr/local/lib/python3.10/dist-packages/pip/_internal/cli/base_command.py\", line 169, in exc_logging_wrapper\n",
            "    status = run_func(*args)\n",
            "  File \"/usr/local/lib/python3.10/dist-packages/pip/_internal/cli/req_command.py\", line 242, in wrapper\n",
            "    return func(self, options, args)\n",
            "  File \"/usr/local/lib/python3.10/dist-packages/pip/_internal/commands/install.py\", line 441, in run\n",
            "    conflicts = self._determine_conflicts(to_install)\n",
            "  File \"/usr/local/lib/python3.10/dist-packages/pip/_internal/commands/install.py\", line 572, in _determine_conflicts\n",
            "    return check_install_conflicts(to_install)\n",
            "  File \"/usr/local/lib/python3.10/dist-packages/pip/_internal/operations/check.py\", line 101, in check_install_conflicts\n",
            "    package_set, _ = create_package_set_from_installed()\n",
            "  File \"/usr/local/lib/python3.10/dist-packages/pip/_internal/operations/check.py\", line 42, in create_package_set_from_installed\n",
            "    dependencies = list(dist.iter_dependencies())\n",
            "  File \"/usr/local/lib/python3.10/dist-packages/pip/_internal/metadata/pkg_resources.py\", line 216, in iter_dependencies\n",
            "    return self._dist.requires(extras)\n",
            "  File \"/usr/local/lib/python3.10/dist-packages/pip/_vendor/pkg_resources/__init__.py\", line 2821, in requires\n",
            "    dm = self._dep_map\n",
            "  File \"/usr/local/lib/python3.10/dist-packages/pip/_vendor/pkg_resources/__init__.py\", line 3110, in _dep_map\n",
            "    self.__dep_map = self._compute_dependencies()\n",
            "  File \"/usr/local/lib/python3.10/dist-packages/pip/_vendor/pkg_resources/__init__.py\", line 3120, in _compute_dependencies\n",
            "    reqs.extend(parse_requirements(req))\n",
            "  File \"/usr/local/lib/python3.10/dist-packages/pip/_vendor/pkg_resources/__init__.py\", line 3173, in __init__\n",
            "    super(Requirement, self).__init__(requirement_string)\n",
            "  File \"/usr/local/lib/python3.10/dist-packages/pip/_vendor/packaging/requirements.py\", line 122, in __init__\n",
            "    self.specifier: SpecifierSet = SpecifierSet(req.specifier)\n",
            "  File \"/usr/local/lib/python3.10/dist-packages/pip/_vendor/packaging/specifiers.py\", line 627, in __init__\n",
            "    split_specifiers = [s.strip() for s in specifiers.split(\",\") if s.strip()]\n",
            "KeyboardInterrupt\n",
            "\n",
            "During handling of the above exception, another exception occurred:\n",
            "\n",
            "Traceback (most recent call last):\n",
            "  File \"/usr/lib/python3.10/logging/__init__.py\", line 1732, in isEnabledFor\n",
            "    return self._cache[level]\n",
            "KeyError: 50\n",
            "\n",
            "During handling of the above exception, another exception occurred:\n",
            "\n",
            "Traceback (most recent call last):\n",
            "  File \"/usr/local/bin/pip3\", line 8, in <module>\n",
            "    sys.exit(main())\n",
            "  File \"/usr/local/lib/python3.10/dist-packages/pip/_internal/cli/main.py\", line 79, in main\n",
            "    return command.main(cmd_args)\n",
            "  File \"/usr/local/lib/python3.10/dist-packages/pip/_internal/cli/base_command.py\", line 101, in main\n",
            "    return self._main(args)\n",
            "  File \"/usr/local/lib/python3.10/dist-packages/pip/_internal/cli/base_command.py\", line 223, in _main\n",
            "    return run(options, args)\n",
            "  File \"/usr/local/lib/python3.10/dist-packages/pip/_internal/cli/base_command.py\", line 206, in exc_logging_wrapper\n",
            "    logger.critical(\"Operation cancelled by user\")\n",
            "  File \"/usr/lib/python3.10/logging/__init__.py\", line 1523, in critical\n",
            "    if self.isEnabledFor(CRITICAL):\n",
            "  File \"/usr/lib/python3.10/logging/__init__.py\", line 1734, in isEnabledFor\n",
            "    _acquireLock()\n",
            "  File \"/usr/lib/python3.10/logging/__init__.py\", line 219, in _acquireLock\n",
            "    def _acquireLock():\n",
            "KeyboardInterrupt\n",
            "^C\n"
          ]
        }
      ],
      "source": [
        "! pip install kafka-python"
      ]
    },
    {
      "cell_type": "code",
      "source": [
        "! pip install confluent-kafka"
      ],
      "metadata": {
        "id": "Rj4M0LENyPlu",
        "colab": {
          "base_uri": "https://localhost:8080/"
        },
        "outputId": "49eb402c-a5c7-4def-b768-f038e40bab52"
      },
      "execution_count": 1,
      "outputs": [
        {
          "output_type": "stream",
          "name": "stdout",
          "text": [
            "Requirement already satisfied: confluent-kafka in /usr/local/lib/python3.10/dist-packages (2.3.0)\n"
          ]
        }
      ]
    },
    {
      "cell_type": "code",
      "source": [
        "from confluent_kafka import Producer\n",
        "import json\n",
        "\n",
        "def produce_inventory_order():\n",
        "    # Kafka producer configuration\n",
        "    kafka_config = {'bootstrap.servers': 'localhost:9092'}\n",
        "\n",
        "    # Create Kafka producer\n",
        "    producer = Producer(kafka_config)\n",
        "\n",
        "    # Simulate inventory events data (replace this with actual data source)\n",
        "    inventory_events = [\n",
        "        {\"type\": \"inventory\", \"item_id\": \"123\", \"quantity\": 10},\n",
        "        {\"type\": \"inventory\", \"item_id\": \"456\", \"quantity\": 20}\n",
        "    ]\n",
        "\n",
        "    # Send inventory events to Kafka topic\n",
        "    for event in inventory_events:\n",
        "        producer.produce('inventory_orders', json.dumps(event).encode('utf-8'))\n",
        "\n",
        "    # Flush producer to send messages\n",
        "    producer.flush()\n",
        "\n",
        "def produce_delivery_order():\n",
        "    # Kafka producer configuration\n",
        "    kafka_config = {'bootstrap.servers': 'localhost:9092'}\n",
        "\n",
        "    # Create Kafka producer\n",
        "    producer = Producer(kafka_config)\n",
        "\n",
        "    # Simulate delivery events data (replace this with actual data source)\n",
        "    delivery_events = [\n",
        "        {\"type\": \"delivery\", \"order_id\": \"1001\", \"status\": \"pending\"},\n",
        "        {\"type\": \"delivery\", \"order_id\": \"1002\", \"status\": \"shipped\"}\n",
        "    ]\n",
        "\n",
        "    # Send delivery events to Kafka topic\n",
        "    for event in delivery_events:\n",
        "        producer.produce('delivery_orders', json.dumps(event).encode('utf-8'))\n",
        "\n",
        "    # Flush producer to send messages\n",
        "    producer.flush()\n",
        "\n",
        "# Produce inventory and delivery orders\n",
        "produce_inventory_order()\n",
        "produce_delivery_order()"
      ],
      "metadata": {
        "id": "nuQqJNBHx_yv"
      },
      "execution_count": 3,
      "outputs": []
    },
    {
      "cell_type": "code",
      "source": [
        "from confluent_kafka import Consumer, KafkaError\n",
        "\n",
        "def consume_inventory_data():\n",
        "    # Kafka consumer configuration\n",
        "    kafka_config = {'bootstrap.servers': 'localhost:9092', 'group.id': 'inventory_group'}\n",
        "\n",
        "    # Create Kafka consumer\n",
        "    consumer = Consumer(kafka_config)\n",
        "    consumer.subscribe(['inventory_orders'])\n",
        "\n",
        "    # Consume messages\n",
        "    while True:\n",
        "        msg = consumer.poll(timeout=1.0)  # Poll for messages\n",
        "        if msg is None:\n",
        "            continue\n",
        "        if msg.error():\n",
        "            if msg.error().code() == KafkaError._PARTITION_EOF:\n",
        "                # End of partition\n",
        "                continue\n",
        "            else:\n",
        "                print(f\"Consumer error: {msg.error()}\")\n",
        "                break\n",
        "        # Process inventory message\n",
        "        inventory_data = json.loads(msg.value().decode('utf-8'))\n",
        "        print(\"Received inventory data:\", inventory_data)\n",
        "        # Perform actions like updating inventory databases\n",
        "\n",
        "def consume_delivery_data():\n",
        "    # Kafka consumer configuration\n",
        "    kafka_config = {'bootstrap.servers': 'localhost:9092', 'group.id': 'delivery_group'}\n",
        "\n",
        "    # Create Kafka consumer\n",
        "    consumer = Consumer(kafka_config)\n",
        "    consumer.subscribe(['delivery_orders'])\n",
        "\n",
        "    # Consume messages\n",
        "    while True:\n",
        "        msg = consumer.poll(timeout=1.0)  # Poll for messages\n",
        "        if msg is None:\n",
        "            continue\n",
        "        if msg.error():\n",
        "            if msg.error().code() == KafkaError._PARTITION_EOF:\n",
        "                # End of partition\n",
        "                continue\n",
        "            else:\n",
        "                print(f\"Consumer error: {msg.error()}\")\n",
        "                break\n",
        "        # Process delivery message\n",
        "        delivery_data = json.loads(msg.value().decode('utf-8'))\n",
        "        print(\"Received delivery data:\", delivery_data)\n",
        "        # Perform actions like scheduling deliveries, updating status, etc.\n",
        "\n",
        "# Consume inventory and delivery data\n",
        "consume_inventory_data()\n",
        "consume_delivery_data()"
      ],
      "metadata": {
        "id": "cVvlA6yeyiXe"
      },
      "execution_count": 1,
      "outputs": []
    },
    {
      "cell_type": "code",
      "source": [
        "import json\n",
        "\n",
        "def filter_inventory_message(message):\n",
        "    try:\n",
        "        data = json.loads(message)\n",
        "        return data.get('type') == 'inventory'\n",
        "    except json.JSONDecodeError:\n",
        "        return False\n",
        "\n",
        "def filter_delivery_message(message):\n",
        "    try:\n",
        "        data = json.loads(message)\n",
        "        return data.get('type') == 'delivery'\n",
        "    except json.JSONDecodeError:\n",
        "        return False"
      ],
      "metadata": {
        "id": "k7HX1RqVymJq"
      },
      "execution_count": null,
      "outputs": []
    }
  ]
}